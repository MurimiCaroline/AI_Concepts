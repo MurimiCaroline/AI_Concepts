{
 "cells": [
  {
   "cell_type": "markdown",
   "metadata": {},
   "source": [
    "## HCIA-AI CERTIFICATION DAILY EXERCISE: PYTHON BASICS"
   ]
  },
  {
   "cell_type": "markdown",
   "metadata": {},
   "source": [
    "### 1. Check the version of pandas and numpy installed"
   ]
  },
  {
   "cell_type": "code",
   "execution_count": 1,
   "metadata": {},
   "outputs": [
    {
     "name": "stdout",
     "output_type": "stream",
     "text": [
      "1.24.3\n"
     ]
    }
   ],
   "source": [
    "import numpy; \n",
    "print (numpy.version.version) #numpy version\n"
   ]
  },
  {
   "cell_type": "code",
   "execution_count": 7,
   "metadata": {},
   "outputs": [
    {
     "name": "stdout",
     "output_type": "stream",
     "text": [
      "2.0.3\n"
     ]
    }
   ],
   "source": [
    "import pandas as pd;\n",
    "print (pd.__version__) #pandas version"
   ]
  },
  {
   "cell_type": "markdown",
   "metadata": {},
   "source": [
    " ### 2.Write a program to print 'Hello HCIA PDTP-Huawei Team"
   ]
  },
  {
   "cell_type": "code",
   "execution_count": 2,
   "metadata": {},
   "outputs": [
    {
     "name": "stdout",
     "output_type": "stream",
     "text": [
      "Hello HCIA PDTP-Huawei Team\n"
     ]
    }
   ],
   "source": [
    "print(\"Hello HCIA PDTP-Huawei Team\")"
   ]
  },
  {
   "cell_type": "markdown",
   "metadata": {},
   "source": [
    "### 3. Write a program to define two variables, calculate their sum and display the results"
   ]
  },
  {
   "cell_type": "code",
   "execution_count": null,
   "metadata": {},
   "outputs": [
    {
     "name": "stdout",
     "output_type": "stream",
     "text": [
      "16\n"
     ]
    }
   ],
   "source": [
    "x= 9\n",
    "y= 7\n",
    "print(x+y)"
   ]
  },
  {
   "cell_type": "markdown",
   "metadata": {},
   "source": [
    "### 4. a) Write a program to define a tuple that contains only one element"
   ]
  },
  {
   "cell_type": "code",
   "execution_count": null,
   "metadata": {},
   "outputs": [],
   "source": [
    "thistuple = (\"apple\",)\n",
    "print(type(thistuple))"
   ]
  },
  {
   "cell_type": "markdown",
   "metadata": {},
   "source": [
    "### 4. b) Write a program to define a tuple and then use the 'for loop' to print all the elements."
   ]
  },
  {
   "cell_type": "code",
   "execution_count": 18,
   "metadata": {},
   "outputs": [
    {
     "name": "stdout",
     "output_type": "stream",
     "text": [
      "apple\n",
      "banana\n",
      "cherry\n"
     ]
    }
   ],
   "source": [
    "thistuple = (\"apple\", \"banana\", \"cherry\")\n",
    "# print(thistuple)\n",
    "for i in thistuple:\n",
    "    print(i)\n",
    "# for i in range(len(thistuple)):\n",
    "#     print(thistuple[i])"
   ]
  },
  {
   "cell_type": "markdown",
   "metadata": {},
   "source": [
    "#### 5) Write code to create a Python dictionary (the dict type) and print out the details. Add two entries to the dictionary: Associate the key ‘name’ with the value ‘Reagan’, and associate the key ‘phone’ with ‘+254 722 222333’"
   ]
  },
  {
   "cell_type": "code",
   "execution_count": 11,
   "metadata": {},
   "outputs": [
    {
     "name": "stdout",
     "output_type": "stream",
     "text": [
      "{'name': 'Reagan', 'phone': '+254 722 222333'}\n"
     ]
    }
   ],
   "source": [
    "mydict ={\n",
    "    \"name\": \"Reagan\",\n",
    "    \"phone\" :  \"+254 722 222333\"\n",
    "}\n",
    "print(mydict)"
   ]
  },
  {
   "cell_type": "markdown",
   "metadata": {},
   "source": [
    "### 6. a) Define a function to do Multiplication, such as Mul(8,6),and it output 42."
   ]
  },
  {
   "cell_type": "code",
   "execution_count": 11,
   "metadata": {},
   "outputs": [
    {
     "name": "stdout",
     "output_type": "stream",
     "text": [
      "10\n"
     ]
    }
   ],
   "source": [
    "def Mul(a,b):\n",
    "    return a*b\n",
    "print(Mul(2,5))"
   ]
  },
  {
   "cell_type": "markdown",
   "metadata": {},
   "source": [
    "### b) Complete the function definition so it returns the square of the product of the parameters,so sqrProd(2, 5) returns (2* 5) * (2* 5) = 100. def sqrProd(x, y)"
   ]
  },
  {
   "cell_type": "code",
   "execution_count": 12,
   "metadata": {},
   "outputs": [
    {
     "name": "stdout",
     "output_type": "stream",
     "text": [
      "100\n"
     ]
    }
   ],
   "source": [
    "def sqrProd(a,b):\n",
    "    return (a*b)*(a*b)\n",
    "print(sqrProd(2,5))"
   ]
  },
  {
   "cell_type": "markdown",
   "metadata": {},
   "source": [
    "### 7.a) Use numpy to define an array, the shape of it is (5,5) and all elements of it is 0."
   ]
  },
  {
   "cell_type": "code",
   "execution_count": 17,
   "metadata": {},
   "outputs": [
    {
     "name": "stdout",
     "output_type": "stream",
     "text": [
      "(5, 5)\n",
      "[[0 0 0 0 0]\n",
      " [0 0 0 0 0]\n",
      " [0 0 0 0 0]\n",
      " [0 0 0 0 0]\n",
      " [0 0 0 0 0]]\n"
     ]
    }
   ],
   "source": [
    "import numpy as np\n",
    "myArray = np.array([[0,0,0,0,0],[0,0,0,0,0],[0,0,0,0,0],[0,0,0,0,0],[0,0,0,0,0]])\n",
    "print(np.array(myArray).shape)\n",
    "print(myArray)\n",
    "\n",
    "    "
   ]
  },
  {
   "cell_type": "markdown",
   "metadata": {},
   "source": [
    "### 7. b) Create a 3x3 matrix with values ranging from 0 to 8"
   ]
  },
  {
   "cell_type": "code",
   "execution_count": 1,
   "metadata": {},
   "outputs": [
    {
     "name": "stdout",
     "output_type": "stream",
     "text": [
      "[[ 0  1  2  3]\n",
      " [ 4  5  6  7]\n",
      " [ 8  9 10 11]]\n"
     ]
    }
   ],
   "source": [
    "import numpy as np\n",
    "matrix = np.arange(12).reshape(3,4)\n",
    "print(matrix)\n"
   ]
  },
  {
   "cell_type": "markdown",
   "metadata": {},
   "source": [
    "### 7. c.) Find indices of non-zero elements from [1,2,0,0,4,0]\n"
   ]
  },
  {
   "cell_type": "code",
   "execution_count": 22,
   "metadata": {},
   "outputs": [
    {
     "name": "stdout",
     "output_type": "stream",
     "text": [
      "(array([0, 1, 4], dtype=int64),)\n"
     ]
    }
   ],
   "source": [
    "import numpy as np\n",
    "myArray = np.array([1,2,0,0,4,0])\n",
    "print(np.nonzero(myArray))"
   ]
  },
  {
   "cell_type": "markdown",
   "metadata": {},
   "source": [
    "### 7. d) Create a 10x10 array with random values and find the minimum and maximum values"
   ]
  },
  {
   "cell_type": "code",
   "execution_count": 24,
   "metadata": {},
   "outputs": [
    {
     "name": "stdout",
     "output_type": "stream",
     "text": [
      "[[0.71694302 0.42769954 0.44524009 0.04962637 0.71166453 0.94851609\n",
      "  0.72389172 0.30173287 0.71041749 0.97280405]\n",
      " [0.27414638 0.29777229 0.02079225 0.85627847 0.78724584 0.80790829\n",
      "  0.43446209 0.87688191 0.67110773 0.86896838]\n",
      " [0.14441858 0.06196245 0.04053999 0.61610389 0.99553872 0.79583024\n",
      "  0.37585578 0.85112787 0.22924671 0.46543461]\n",
      " [0.23527361 0.98833493 0.2474714  0.71157973 0.62331282 0.25834898\n",
      "  0.35249545 0.65258901 0.55016463 0.82406548]\n",
      " [0.80484186 0.79650277 0.93254747 0.54169951 0.49414001 0.56874559\n",
      "  0.10453492 0.76832635 0.48470812 0.00775843]\n",
      " [0.04741304 0.06024787 0.0288332  0.89627449 0.4745718  0.50109488\n",
      "  0.06653119 0.80938339 0.2592455  0.91372838]\n",
      " [0.18998975 0.9937286  0.09448019 0.71908582 0.35911328 0.18953255\n",
      "  0.34160676 0.00988359 0.0952551  0.61707892]\n",
      " [0.77995732 0.76445937 0.57103459 0.28576302 0.86300445 0.81070688\n",
      "  0.5916738  0.60729637 0.66566461 0.97961283]\n",
      " [0.90341887 0.63902565 0.2248493  0.55878289 0.77397458 0.89201966\n",
      "  0.06573459 0.62196887 0.20367321 0.26981798]\n",
      " [0.45399083 0.95381449 0.24909533 0.79706343 0.82184766 0.95977482\n",
      "  0.26044443 0.15792326 0.08632339 0.89538197]]\n",
      "Minimum value: 0.007758425234697497\n",
      "Maximum value: 0.9955387223604607\n"
     ]
    }
   ],
   "source": [
    "import numpy as np\n",
    "arr = np.random.rand(10, 10)\n",
    "print(arr)\n",
    "min_val = np.min(arr)\n",
    "max_val = np.max(arr)\n",
    "print(\"Minimum value:\", min_val)\n",
    "print(\"Maximum value:\", max_val)\n"
   ]
  },
  {
   "cell_type": "markdown",
   "metadata": {},
   "source": [
    "### 7.e) Create a random vector of size 30 and find the mean value"
   ]
  },
  {
   "cell_type": "code",
   "execution_count": 29,
   "metadata": {},
   "outputs": [
    {
     "name": "stdout",
     "output_type": "stream",
     "text": [
      "[0.68376153 0.10067012 0.91999099 0.68070229 0.28243537 0.07531334\n",
      " 0.77691633 0.73959353 0.43678636 0.55083258 0.37973103 0.10795663\n",
      " 0.47454883 0.89832521 0.97013501 0.01719915 0.63986177 0.90813407\n",
      " 0.09247885 0.72901748 0.53979671 0.40573814 0.0544674  0.08729247\n",
      " 0.46830984 0.32478964 0.17687037 0.29285526 0.28233767 0.09799364]\n",
      "The mean is 0.4398280530248962\n"
     ]
    }
   ],
   "source": [
    "import numpy as np\n",
    "vector = np.random.rand(30)\n",
    "print(vector)\n",
    "x = np.mean(vector)\n",
    "print(f\"The mean is {x}\")"
   ]
  },
  {
   "cell_type": "markdown",
   "metadata": {},
   "source": [
    "### 8) Write a Python program that prompts the user for two numbers, reads them in, and prints out the product, labeled appropriately.\n"
   ]
  },
  {
   "cell_type": "code",
   "execution_count": 1,
   "metadata": {},
   "outputs": [
    {
     "name": "stdout",
     "output_type": "stream",
     "text": [
      "The product of 5.0 and 6.0 is 30.0\n"
     ]
    }
   ],
   "source": [
    "import numpy as np\n",
    "num1 = float(input(\"Enter the first number: \"))\n",
    "num2 = float(input(\"Enter the second number: \"))\n",
    "product = num1 * num2\n",
    "print(\"The product of\", num1, \"and\", num2, \"is\", product)\n"
   ]
  },
  {
   "cell_type": "markdown",
   "metadata": {},
   "source": [
    "### 9) Complete the code for the following function so it matches its documentation:def doubleList(numberList):For each of the numbers in the list numberList, print a line containing twice the original number. For example,doubleList ([3, 1, 5]) would print 6, 2, 10"
   ]
  },
  {
   "cell_type": "code",
   "execution_count": 3,
   "metadata": {},
   "outputs": [
    {
     "name": "stdout",
     "output_type": "stream",
     "text": [
      "6\n",
      "2\n",
      "10\n"
     ]
    }
   ],
   "source": [
    "def doubleList(numberList):\n",
    "    for num in numberList:\n",
    "        print(num * 2)\n",
    "doubleList ([3, 1, 5]) "
   ]
  }
 ],
 "metadata": {
  "kernelspec": {
   "display_name": "base",
   "language": "python",
   "name": "python3"
  },
  "language_info": {
   "codemirror_mode": {
    "name": "ipython",
    "version": 3
   },
   "file_extension": ".py",
   "mimetype": "text/x-python",
   "name": "python",
   "nbconvert_exporter": "python",
   "pygments_lexer": "ipython3",
   "version": "3.11.5"
  }
 },
 "nbformat": 4,
 "nbformat_minor": 2
}
